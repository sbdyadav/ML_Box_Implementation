{
 "cells": [
  {
   "cell_type": "markdown",
   "metadata": {
    "collapsed": true
   },
   "source": [
    "## Load the Libraries"
   ]
  },
  {
   "cell_type": "code",
   "execution_count": 1,
   "metadata": {},
   "outputs": [
    {
     "name": "stderr",
     "output_type": "stream",
     "text": [
      "Using TensorFlow backend.\n"
     ]
    }
   ],
   "source": [
    "# importing the required libraries\n",
    "from mlbox.preprocessing import *\n",
    "from mlbox.optimisation import *\n",
    "from mlbox.prediction import *\n",
    "\n",
    "import warnings\n",
    "warnings.filterwarnings(\"ignore\")"
   ]
  },
  {
   "cell_type": "markdown",
   "metadata": {},
   "source": [
    "## Preprocessing"
   ]
  },
  {
   "cell_type": "code",
   "execution_count": 3,
   "metadata": {
    "scrolled": true
   },
   "outputs": [
    {
     "name": "stdout",
     "output_type": "stream",
     "text": [
      "\n",
      "reading csv : train_bm.csv ...\n",
      "cleaning data ...\n",
      "CPU time: 4.166972875595093 seconds\n",
      "\n",
      "reading csv : test_bm.csv ...\n",
      "cleaning data ...\n",
      "CPU time: 0.07345962524414062 seconds\n",
      "\n",
      "> Number of common features : 11\n",
      "\n",
      "gathering and crunching for train and test datasets ...\n",
      "reindexing for train and test datasets ...\n",
      "dropping training duplicates ...\n",
      "dropping constant variables on training set ...\n",
      "\n",
      "> Number of categorical features: 7\n",
      "> Number of numerical features: 4\n",
      "> Number of training samples : 8523\n",
      "> Number of test samples : 5681\n",
      "\n",
      "> Top sparse features (% missing values on train set):\n",
      "Outlet_Size    28.3\n",
      "Item_Weight    17.2\n",
      "dtype: float64\n",
      "\n",
      "> Task : regression\n",
      "count     8523.000000\n",
      "mean      2181.288914\n",
      "std       1706.499616\n",
      "min         33.290000\n",
      "25%        834.247400\n",
      "50%       1794.331000\n",
      "75%       3101.296400\n",
      "max      13086.964800\n",
      "Name: Item_Outlet_Sales, dtype: float64\n"
     ]
    }
   ],
   "source": [
    "# reading and cleaning the train and test files\n",
    "df=Reader(sep=\",\").train_test_split(['train_bm.csv', 'test_bm.csv'],'Item_Outlet_Sales')"
   ]
  },
  {
   "cell_type": "code",
   "execution_count": 4,
   "metadata": {},
   "outputs": [
    {
     "data": {
      "text/plain": [
       "dict"
      ]
     },
     "execution_count": 4,
     "metadata": {},
     "output_type": "execute_result"
    }
   ],
   "source": [
    "type(df)"
   ]
  },
  {
   "cell_type": "code",
   "execution_count": 5,
   "metadata": {},
   "outputs": [
    {
     "data": {
      "text/plain": [
       "dict_keys(['train', 'test', 'target'])"
      ]
     },
     "execution_count": 5,
     "metadata": {},
     "output_type": "execute_result"
    }
   ],
   "source": [
    "df.keys()"
   ]
  },
  {
   "cell_type": "code",
   "execution_count": 6,
   "metadata": {},
   "outputs": [
    {
     "data": {
      "text/html": [
       "<div>\n",
       "<style scoped>\n",
       "    .dataframe tbody tr th:only-of-type {\n",
       "        vertical-align: middle;\n",
       "    }\n",
       "\n",
       "    .dataframe tbody tr th {\n",
       "        vertical-align: top;\n",
       "    }\n",
       "\n",
       "    .dataframe thead th {\n",
       "        text-align: right;\n",
       "    }\n",
       "</style>\n",
       "<table border=\"1\" class=\"dataframe\">\n",
       "  <thead>\n",
       "    <tr style=\"text-align: right;\">\n",
       "      <th></th>\n",
       "      <th>Item_Fat_Content</th>\n",
       "      <th>Item_Identifier</th>\n",
       "      <th>Item_MRP</th>\n",
       "      <th>Item_Type</th>\n",
       "      <th>Item_Visibility</th>\n",
       "      <th>Item_Weight</th>\n",
       "      <th>Outlet_Establishment_Year</th>\n",
       "      <th>Outlet_Identifier</th>\n",
       "      <th>Outlet_Location_Type</th>\n",
       "      <th>Outlet_Size</th>\n",
       "      <th>Outlet_Type</th>\n",
       "    </tr>\n",
       "  </thead>\n",
       "  <tbody>\n",
       "    <tr>\n",
       "      <th>0</th>\n",
       "      <td>Low Fat</td>\n",
       "      <td>FDA15</td>\n",
       "      <td>249.8092</td>\n",
       "      <td>Dairy</td>\n",
       "      <td>0.016047</td>\n",
       "      <td>9.30</td>\n",
       "      <td>1999.0</td>\n",
       "      <td>OUT049</td>\n",
       "      <td>Tier 1</td>\n",
       "      <td>Medium</td>\n",
       "      <td>Supermarket Type1</td>\n",
       "    </tr>\n",
       "    <tr>\n",
       "      <th>1</th>\n",
       "      <td>Regular</td>\n",
       "      <td>DRC01</td>\n",
       "      <td>48.2692</td>\n",
       "      <td>Soft Drinks</td>\n",
       "      <td>0.019278</td>\n",
       "      <td>5.92</td>\n",
       "      <td>2009.0</td>\n",
       "      <td>OUT018</td>\n",
       "      <td>Tier 3</td>\n",
       "      <td>Medium</td>\n",
       "      <td>Supermarket Type2</td>\n",
       "    </tr>\n",
       "    <tr>\n",
       "      <th>2</th>\n",
       "      <td>Low Fat</td>\n",
       "      <td>FDN15</td>\n",
       "      <td>141.6180</td>\n",
       "      <td>Meat</td>\n",
       "      <td>0.016760</td>\n",
       "      <td>17.50</td>\n",
       "      <td>1999.0</td>\n",
       "      <td>OUT049</td>\n",
       "      <td>Tier 1</td>\n",
       "      <td>Medium</td>\n",
       "      <td>Supermarket Type1</td>\n",
       "    </tr>\n",
       "    <tr>\n",
       "      <th>3</th>\n",
       "      <td>Regular</td>\n",
       "      <td>FDX07</td>\n",
       "      <td>182.0950</td>\n",
       "      <td>Fruits and Vegetables</td>\n",
       "      <td>0.000000</td>\n",
       "      <td>19.20</td>\n",
       "      <td>1998.0</td>\n",
       "      <td>OUT010</td>\n",
       "      <td>Tier 3</td>\n",
       "      <td>NaN</td>\n",
       "      <td>Grocery Store</td>\n",
       "    </tr>\n",
       "    <tr>\n",
       "      <th>4</th>\n",
       "      <td>Low Fat</td>\n",
       "      <td>NCD19</td>\n",
       "      <td>53.8614</td>\n",
       "      <td>Household</td>\n",
       "      <td>0.000000</td>\n",
       "      <td>8.93</td>\n",
       "      <td>1987.0</td>\n",
       "      <td>OUT013</td>\n",
       "      <td>Tier 3</td>\n",
       "      <td>High</td>\n",
       "      <td>Supermarket Type1</td>\n",
       "    </tr>\n",
       "  </tbody>\n",
       "</table>\n",
       "</div>"
      ],
      "text/plain": [
       "  Item_Fat_Content Item_Identifier  Item_MRP              Item_Type  \\\n",
       "0          Low Fat           FDA15  249.8092                  Dairy   \n",
       "1          Regular           DRC01   48.2692            Soft Drinks   \n",
       "2          Low Fat           FDN15  141.6180                   Meat   \n",
       "3          Regular           FDX07  182.0950  Fruits and Vegetables   \n",
       "4          Low Fat           NCD19   53.8614              Household   \n",
       "\n",
       "   Item_Visibility  Item_Weight  Outlet_Establishment_Year Outlet_Identifier  \\\n",
       "0         0.016047         9.30                     1999.0            OUT049   \n",
       "1         0.019278         5.92                     2009.0            OUT018   \n",
       "2         0.016760        17.50                     1999.0            OUT049   \n",
       "3         0.000000        19.20                     1998.0            OUT010   \n",
       "4         0.000000         8.93                     1987.0            OUT013   \n",
       "\n",
       "  Outlet_Location_Type Outlet_Size        Outlet_Type  \n",
       "0               Tier 1      Medium  Supermarket Type1  \n",
       "1               Tier 3      Medium  Supermarket Type2  \n",
       "2               Tier 1      Medium  Supermarket Type1  \n",
       "3               Tier 3         NaN      Grocery Store  \n",
       "4               Tier 3        High  Supermarket Type1  "
      ]
     },
     "execution_count": 6,
     "metadata": {},
     "output_type": "execute_result"
    }
   ],
   "source": [
    "df['train'].head()"
   ]
  },
  {
   "cell_type": "code",
   "execution_count": 7,
   "metadata": {},
   "outputs": [
    {
     "data": {
      "text/plain": [
       "Item_Fat_Content                0\n",
       "Item_Identifier                 0\n",
       "Item_MRP                        0\n",
       "Item_Type                       0\n",
       "Item_Visibility                 0\n",
       "Item_Weight                  1463\n",
       "Outlet_Establishment_Year       0\n",
       "Outlet_Identifier               0\n",
       "Outlet_Location_Type            0\n",
       "Outlet_Size                  2410\n",
       "Outlet_Type                     0\n",
       "dtype: int64"
      ]
     },
     "execution_count": 7,
     "metadata": {},
     "output_type": "execute_result"
    }
   ],
   "source": [
    "df['train'].isnull().sum()"
   ]
  },
  {
   "cell_type": "markdown",
   "metadata": {},
   "source": [
    "## Optimisation"
   ]
  },
  {
   "cell_type": "code",
   "execution_count": 8,
   "metadata": {
    "collapsed": true
   },
   "outputs": [],
   "source": [
    "# setting the hyperparameter space\n",
    "space={'ne__numerical_strategy':{\"space\":['median']},\n",
    "'ne__categorical_strategy':{\"space\":['mode']},\n",
    "       \n",
    "'ce__strategy':{\"search\":\"choice\",\"space\":['label_encoding','entity_embedding']},\n",
    "'fs__strategy':{\"search\":\"choice\",\"space\":['variance','rf_feature_importance']},\n",
    "'fs__threshold':{\"search\":\"uniform\",\"space\":[0.01, 0.3]},\n",
    "       \n",
    "'est__strategy' : {\"space\" : [\"RandomForest\"]},\n",
    "'est__max_depth':{\"search\":\"choice\",\"space\":[3,5,7,9]},\n",
    "'est__n_estimators':{\"search\":\"choice\",\"space\":[250,500,700,1000]}}"
   ]
  },
  {
   "cell_type": "code",
   "execution_count": 9,
   "metadata": {
    "scrolled": true
   },
   "outputs": [
    {
     "name": "stdout",
     "output_type": "stream",
     "text": [
      "\n",
      "##################################################### testing hyper-parameters... #####################################################\n",
      "\n",
      ">>> NA ENCODER :{'numerical_strategy': 'median', 'categorical_strategy': 'mode'}\n",
      "\n",
      ">>> CA ENCODER :{'strategy': 'label_encoding'}\n",
      "\n",
      ">>> FEATURE SELECTOR :{'strategy': 'variance', 'threshold': 0.290810744939252}\n",
      "\n",
      ">>> ESTIMATOR :{'strategy': 'RandomForest', 'max_depth': 9, 'n_estimators': 700, 'bootstrap': True, 'criterion': 'mse', 'max_features': 'sqrt', 'max_leaf_nodes': None, 'min_impurity_decrease': 0.0, 'min_impurity_split': None, 'min_samples_leaf': 1, 'min_samples_split': 2, 'min_weight_fraction_leaf': 0.0, 'n_jobs': -1, 'oob_score': False, 'random_state': 0, 'verbose': 0, 'warm_start': False}\n",
      "\n",
      "\n",
      "MEAN SCORE : r2 = 0.5884089368754352\n",
      "VARIANCE : 0.01589347931541683 (fold 1 = 0.585687382410703, fold 2 = 0.5797469921092984, fold 3 = 0.5868701408071972, fold 4 = 0.618265773515415, fold 5 = 0.5714743955345621)\n",
      "CPU time: 10.895755290985107 seconds\n",
      "\n",
      "\n",
      "##################################################### testing hyper-parameters... #####################################################\n",
      "\n",
      ">>> NA ENCODER :{'numerical_strategy': 'median', 'categorical_strategy': 'mode'}\n",
      "\n",
      ">>> CA ENCODER :{'strategy': 'entity_embedding'}\n",
      "\n",
      ">>> FEATURE SELECTOR :{'strategy': 'variance', 'threshold': 0.13522499469239344}\n",
      "\n",
      ">>> ESTIMATOR :{'strategy': 'RandomForest', 'max_depth': 7, 'n_estimators': 250, 'bootstrap': True, 'criterion': 'mse', 'max_features': 'sqrt', 'max_leaf_nodes': None, 'min_impurity_decrease': 0.0, 'min_impurity_split': None, 'min_samples_leaf': 1, 'min_samples_split': 2, 'min_weight_fraction_leaf': 0.0, 'n_jobs': -1, 'oob_score': False, 'random_state': 0, 'verbose': 0, 'warm_start': False}\n",
      "\n",
      "\n",
      "MEAN SCORE : r2 = 0.5042627245430824\n",
      "VARIANCE : 0.011520080109848568 (fold 1 = 0.4985728801681384, fold 2 = 0.4996634660046809, fold 3 = 0.5024293069422945, fold 4 = 0.5266517915828408, fold 5 = 0.4939961780174572)\n",
      "CPU time: 7.016660690307617 seconds\n",
      "\n",
      "\n",
      "##################################################### testing hyper-parameters... #####################################################\n",
      "\n",
      ">>> NA ENCODER :{'numerical_strategy': 'median', 'categorical_strategy': 'mode'}\n",
      "\n",
      ">>> CA ENCODER :{'strategy': 'entity_embedding'}\n",
      "\n",
      ">>> FEATURE SELECTOR :{'strategy': 'rf_feature_importance', 'threshold': 0.14615647957112976}\n",
      "\n",
      ">>> ESTIMATOR :{'strategy': 'RandomForest', 'max_depth': 3, 'n_estimators': 1000, 'bootstrap': True, 'criterion': 'mse', 'max_features': 'sqrt', 'max_leaf_nodes': None, 'min_impurity_decrease': 0.0, 'min_impurity_split': None, 'min_samples_leaf': 1, 'min_samples_split': 2, 'min_weight_fraction_leaf': 0.0, 'n_jobs': -1, 'oob_score': False, 'random_state': 0, 'verbose': 0, 'warm_start': False}\n",
      "\n",
      "\n",
      "MEAN SCORE : r2 = 0.44592439460279093\n",
      "VARIANCE : 0.017174058076760666 (fold 1 = 0.4548048253573621, fold 2 = 0.43851854670447166, fold 3 = 0.43361840080912906, fold 4 = 0.47511966594161636, fold 5 = 0.4275605342013753)\n",
      "CPU time: 20.115878105163574 seconds\n",
      "\n",
      "\n",
      "##################################################### testing hyper-parameters... #####################################################\n",
      "\n",
      ">>> NA ENCODER :{'numerical_strategy': 'median', 'categorical_strategy': 'mode'}\n",
      "\n",
      ">>> CA ENCODER :{'strategy': 'entity_embedding'}\n",
      "\n",
      ">>> FEATURE SELECTOR :{'strategy': 'rf_feature_importance', 'threshold': 0.10638265179223372}\n",
      "\n",
      ">>> ESTIMATOR :{'strategy': 'RandomForest', 'max_depth': 5, 'n_estimators': 250, 'bootstrap': True, 'criterion': 'mse', 'max_features': 'sqrt', 'max_leaf_nodes': None, 'min_impurity_decrease': 0.0, 'min_impurity_split': None, 'min_samples_leaf': 1, 'min_samples_split': 2, 'min_weight_fraction_leaf': 0.0, 'n_jobs': -1, 'oob_score': False, 'random_state': 0, 'verbose': 0, 'warm_start': False}\n",
      "\n",
      "\n",
      "MEAN SCORE : r2 = 0.49792068910033366\n",
      "VARIANCE : 0.012986211706576935 (fold 1 = 0.4970126986390191, fold 2 = 0.4919420041389061, fold 3 = 0.4972990001019658, fold 4 = 0.5213987792216394, fold 5 = 0.48195096340013777)\n",
      "CPU time: 13.397889375686646 seconds\n",
      "\n",
      "\n",
      "##################################################### testing hyper-parameters... #####################################################\n",
      "\n",
      ">>> NA ENCODER :{'numerical_strategy': 'median', 'categorical_strategy': 'mode'}\n",
      "\n",
      ">>> CA ENCODER :{'strategy': 'label_encoding'}\n",
      "\n",
      ">>> FEATURE SELECTOR :{'strategy': 'variance', 'threshold': 0.07723398422735013}\n",
      "\n",
      ">>> ESTIMATOR :{'strategy': 'RandomForest', 'max_depth': 3, 'n_estimators': 700, 'bootstrap': True, 'criterion': 'mse', 'max_features': 'sqrt', 'max_leaf_nodes': None, 'min_impurity_decrease': 0.0, 'min_impurity_split': None, 'min_samples_leaf': 1, 'min_samples_split': 2, 'min_weight_fraction_leaf': 0.0, 'n_jobs': -1, 'oob_score': False, 'random_state': 0, 'verbose': 0, 'warm_start': False}\n",
      "\n",
      "\n",
      "MEAN SCORE : r2 = 0.47152430767165204\n",
      "VARIANCE : 0.011423512911226659 (fold 1 = 0.477139243895392, fold 2 = 0.46685642859756704, fold 3 = 0.47051894791897897, fold 4 = 0.48884730447508473, fold 5 = 0.45425961347123744)\n",
      "CPU time: 5.999194383621216 seconds\n",
      "\n",
      "\n",
      "##################################################### testing hyper-parameters... #####################################################\n",
      "\n",
      ">>> NA ENCODER :{'numerical_strategy': 'median', 'categorical_strategy': 'mode'}\n",
      "\n",
      ">>> CA ENCODER :{'strategy': 'entity_embedding'}\n",
      "\n",
      ">>> FEATURE SELECTOR :{'strategy': 'rf_feature_importance', 'threshold': 0.11488369119372299}\n",
      "\n",
      ">>> ESTIMATOR :{'strategy': 'RandomForest', 'max_depth': 9, 'n_estimators': 500, 'bootstrap': True, 'criterion': 'mse', 'max_features': 'sqrt', 'max_leaf_nodes': None, 'min_impurity_decrease': 0.0, 'min_impurity_split': None, 'min_samples_leaf': 1, 'min_samples_split': 2, 'min_weight_fraction_leaf': 0.0, 'n_jobs': -1, 'oob_score': False, 'random_state': 0, 'verbose': 0, 'warm_start': False}\n",
      "\n",
      "\n",
      "MEAN SCORE : r2 = 0.5035841104258965\n",
      "VARIANCE : 0.011287128790227394 (fold 1 = 0.4983785824065171, fold 2 = 0.49822554651436446, fold 3 = 0.5023784921950704, fold 4 = 0.5254450116151932, fold 5 = 0.4934929193983374)\n",
      "CPU time: 19.47974395751953 seconds\n",
      "\n",
      "\n",
      "##################################################### testing hyper-parameters... #####################################################\n",
      "\n",
      ">>> NA ENCODER :{'numerical_strategy': 'median', 'categorical_strategy': 'mode'}\n",
      "\n",
      ">>> CA ENCODER :{'strategy': 'label_encoding'}\n",
      "\n",
      ">>> FEATURE SELECTOR :{'strategy': 'rf_feature_importance', 'threshold': 0.034897475871066876}\n",
      "\n",
      ">>> ESTIMATOR :{'strategy': 'RandomForest', 'max_depth': 7, 'n_estimators': 250, 'bootstrap': True, 'criterion': 'mse', 'max_features': 'sqrt', 'max_leaf_nodes': None, 'min_impurity_decrease': 0.0, 'min_impurity_split': None, 'min_samples_leaf': 1, 'min_samples_split': 2, 'min_weight_fraction_leaf': 0.0, 'n_jobs': -1, 'oob_score': False, 'random_state': 0, 'verbose': 0, 'warm_start': False}\n",
      "\n",
      "\n",
      "MEAN SCORE : r2 = 0.5856419960147219\n",
      "VARIANCE : 0.016026077832583505 (fold 1 = 0.5812462380512831, fold 2 = 0.574503097496326, fold 3 = 0.5879752834530065, fold 4 = 0.6151358651404595, fold 5 = 0.5693494959325347)\n",
      "CPU time: 10.240574598312378 seconds\n",
      "\n",
      "\n",
      "##################################################### testing hyper-parameters... #####################################################\n",
      "\n",
      ">>> NA ENCODER :{'numerical_strategy': 'median', 'categorical_strategy': 'mode'}\n",
      "\n",
      ">>> CA ENCODER :{'strategy': 'label_encoding'}\n",
      "\n",
      ">>> FEATURE SELECTOR :{'strategy': 'variance', 'threshold': 0.046717332107790145}\n",
      "\n",
      ">>> ESTIMATOR :{'strategy': 'RandomForest', 'max_depth': 3, 'n_estimators': 500, 'bootstrap': True, 'criterion': 'mse', 'max_features': 'sqrt', 'max_leaf_nodes': None, 'min_impurity_decrease': 0.0, 'min_impurity_split': None, 'min_samples_leaf': 1, 'min_samples_split': 2, 'min_weight_fraction_leaf': 0.0, 'n_jobs': -1, 'oob_score': False, 'random_state': 0, 'verbose': 0, 'warm_start': False}\n",
      "\n",
      "\n",
      "MEAN SCORE : r2 = 0.4729067927910985\n",
      "VARIANCE : 0.0109740166726861 (fold 1 = 0.4771824825806029, fold 2 = 0.4682392465881623, fold 3 = 0.47410447387077537, fold 4 = 0.4892418400448607, fold 5 = 0.45576592087109147)\n",
      "CPU time: 4.367085695266724 seconds\n",
      "\n",
      "\n",
      "##################################################### testing hyper-parameters... #####################################################\n",
      "\n",
      ">>> NA ENCODER :{'numerical_strategy': 'median', 'categorical_strategy': 'mode'}\n",
      "\n",
      ">>> CA ENCODER :{'strategy': 'entity_embedding'}\n",
      "\n",
      ">>> FEATURE SELECTOR :{'strategy': 'rf_feature_importance', 'threshold': 0.21218510888661965}\n",
      "\n",
      ">>> ESTIMATOR :{'strategy': 'RandomForest', 'max_depth': 3, 'n_estimators': 500, 'bootstrap': True, 'criterion': 'mse', 'max_features': 'sqrt', 'max_leaf_nodes': None, 'min_impurity_decrease': 0.0, 'min_impurity_split': None, 'min_samples_leaf': 1, 'min_samples_split': 2, 'min_weight_fraction_leaf': 0.0, 'n_jobs': -1, 'oob_score': False, 'random_state': 0, 'verbose': 0, 'warm_start': False}\n",
      "\n"
     ]
    },
    {
     "name": "stdout",
     "output_type": "stream",
     "text": [
      "\n",
      "MEAN SCORE : r2 = 0.4381012707801246\n",
      "VARIANCE : 0.014735418770391917 (fold 1 = 0.4468513189709198, fold 2 = 0.43115539047643225, fold 3 = 0.4259826768632752, fold 4 = 0.46276233244695086, fold 5 = 0.4237546351430449)\n",
      "CPU time: 13.820397853851318 seconds\n",
      "\n",
      "\n",
      "##################################################### testing hyper-parameters... #####################################################\n",
      "\n",
      ">>> NA ENCODER :{'numerical_strategy': 'median', 'categorical_strategy': 'mode'}\n",
      "\n",
      ">>> CA ENCODER :{'strategy': 'entity_embedding'}\n",
      "\n",
      ">>> FEATURE SELECTOR :{'strategy': 'rf_feature_importance', 'threshold': 0.044404784103226}\n",
      "\n",
      ">>> ESTIMATOR :{'strategy': 'RandomForest', 'max_depth': 5, 'n_estimators': 1000, 'bootstrap': True, 'criterion': 'mse', 'max_features': 'sqrt', 'max_leaf_nodes': None, 'min_impurity_decrease': 0.0, 'min_impurity_split': None, 'min_samples_leaf': 1, 'min_samples_split': 2, 'min_weight_fraction_leaf': 0.0, 'n_jobs': -1, 'oob_score': False, 'random_state': 0, 'verbose': 0, 'warm_start': False}\n",
      "\n",
      "\n",
      "MEAN SCORE : r2 = 0.4977412111571692\n",
      "VARIANCE : 0.012868752952984968 (fold 1 = 0.49755612442683106, fold 2 = 0.4918193389783817, fold 3 = 0.49509377623909534, fold 4 = 0.5214522200117553, fold 5 = 0.4827845961297823)\n",
      "CPU time: 22.128357648849487 seconds\n",
      "\n",
      "\n",
      "\n",
      "~~~~~~~~~~~~~~~~~~~~~~~~~~~~~~~~~~~~~~~~~~~~~~~~~~~~~~~~~~~~~~~~~~~~~~~~~~~~~~~~~~~~~~~~~~~~~~~~~~~~~~~~~~~~~~~~~~~~~~~~~~~~~~~~~~~~~~~~~\n",
      "~~~~~~~~~~~~~~~~~~~~~~~~~~~~~~~~~~~~~~~~~~~~~~~~~~~~~~~~~ BEST HYPER-PARAMETERS ~~~~~~~~~~~~~~~~~~~~~~~~~~~~~~~~~~~~~~~~~~~~~~~~~~~~~~~~~\n",
      "~~~~~~~~~~~~~~~~~~~~~~~~~~~~~~~~~~~~~~~~~~~~~~~~~~~~~~~~~~~~~~~~~~~~~~~~~~~~~~~~~~~~~~~~~~~~~~~~~~~~~~~~~~~~~~~~~~~~~~~~~~~~~~~~~~~~~~~~~\n",
      "\n",
      "{'ce__strategy': 'label_encoding', 'est__max_depth': 9, 'est__n_estimators': 700, 'est__strategy': 'RandomForest', 'fs__strategy': 'variance', 'fs__threshold': 0.290810744939252, 'ne__categorical_strategy': 'mode', 'ne__numerical_strategy': 'median'}\n"
     ]
    }
   ],
   "source": [
    "# calculating the best hyper-parameter\n",
    "best=Optimiser(scoring=\"r2\",n_folds=5).optimise(space,df,10)"
   ]
  },
  {
   "cell_type": "code",
   "execution_count": 10,
   "metadata": {},
   "outputs": [
    {
     "data": {
      "text/plain": [
       "{'ce__strategy': 'label_encoding',\n",
       " 'est__max_depth': 9,\n",
       " 'est__n_estimators': 700,\n",
       " 'est__strategy': 'RandomForest',\n",
       " 'fs__strategy': 'variance',\n",
       " 'fs__threshold': 0.290810744939252,\n",
       " 'ne__categorical_strategy': 'mode',\n",
       " 'ne__numerical_strategy': 'median'}"
      ]
     },
     "execution_count": 10,
     "metadata": {},
     "output_type": "execute_result"
    }
   ],
   "source": [
    "best"
   ]
  },
  {
   "cell_type": "markdown",
   "metadata": {},
   "source": [
    "## Predictions"
   ]
  },
  {
   "cell_type": "code",
   "execution_count": 11,
   "metadata": {
    "scrolled": false
   },
   "outputs": [
    {
     "name": "stdout",
     "output_type": "stream",
     "text": [
      "\n",
      "fitting the pipeline ...\n",
      "CPU time: 1.8255245685577393 seconds\n",
      "\n",
      "predicting...\n",
      "CPU time: 0.34248805046081543 seconds\n",
      "\n",
      "> Overview on predictions : \n",
      "\n",
      "   Item_Outlet_Sales_predicted\n",
      "0                  1743.491722\n",
      "1                  1498.373917\n",
      "2                   641.687723\n",
      "3                  2522.618260\n",
      "4                  6280.104087\n",
      "5                  1868.182294\n",
      "6                   855.838796\n",
      "7                  2251.364443\n",
      "8                  1539.536206\n",
      "9                  2909.515888\n",
      "\n",
      "dumping predictions into directory : save ...\n"
     ]
    },
    {
     "data": {
      "text/plain": [
       "<mlbox.prediction.predictor.Predictor at 0x7fab721a3908>"
      ]
     },
     "execution_count": 11,
     "metadata": {},
     "output_type": "execute_result"
    }
   ],
   "source": [
    "# predicting on the test dataset\n",
    "Predictor().fit_predict(best,df)"
   ]
  },
  {
   "cell_type": "code",
   "execution_count": null,
   "metadata": {
    "collapsed": true
   },
   "outputs": [],
   "source": []
  },
  {
   "cell_type": "code",
   "execution_count": null,
   "metadata": {
    "collapsed": true
   },
   "outputs": [],
   "source": []
  },
  {
   "cell_type": "code",
   "execution_count": null,
   "metadata": {
    "collapsed": true
   },
   "outputs": [],
   "source": []
  },
  {
   "cell_type": "code",
   "execution_count": null,
   "metadata": {
    "collapsed": true
   },
   "outputs": [],
   "source": []
  },
  {
   "cell_type": "code",
   "execution_count": null,
   "metadata": {
    "collapsed": true
   },
   "outputs": [],
   "source": []
  }
 ],
 "metadata": {
  "kernelspec": {
   "display_name": "Python 3",
   "language": "python",
   "name": "python3"
  },
  "language_info": {
   "codemirror_mode": {
    "name": "ipython",
    "version": 3
   },
   "file_extension": ".py",
   "mimetype": "text/x-python",
   "name": "python",
   "nbconvert_exporter": "python",
   "pygments_lexer": "ipython3",
   "version": "3.7.1"
  }
 },
 "nbformat": 4,
 "nbformat_minor": 2
}
